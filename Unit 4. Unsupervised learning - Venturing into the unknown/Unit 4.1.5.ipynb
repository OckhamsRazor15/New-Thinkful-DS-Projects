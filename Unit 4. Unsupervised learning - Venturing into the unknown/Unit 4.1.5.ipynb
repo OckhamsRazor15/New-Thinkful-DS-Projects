{
 "cells": [
  {
   "cell_type": "code",
   "execution_count": 1,
   "metadata": {},
   "outputs": [],
   "source": [
    "import numpy as np\n",
    "import pandas as pd\n",
    "import scipy\n",
    "import matplotlib.pyplot as plt\n",
    "import seaborn as sns\n",
    "from sklearn.cluster import KMeans\n",
    "from sklearn.preprocessing import normalize\n",
    "from sklearn.decomposition import PCA\n",
    "from sklearn.cluster import MiniBatchKMeans\n",
    "%matplotlib inline"
   ]
  },
  {
   "cell_type": "code",
   "execution_count": 59,
   "metadata": {},
   "outputs": [],
   "source": [
    "df = pd.read_csv(\"boston_mar.csv\").fillna(0)\n",
    "# Define the features and the outcome.\n",
    "#X = df.iloc[:, :13]\n",
    "y = df[\"gender\"]\n",
    "\n",
    "# Replace missing values (marked by ?) with a 0.\n",
    "#X = X.replace(to_replace='?', value=0)\n",
    "\n",
    "# Binarize y so that 1 means male and 0 means female.\n",
    "y = np.where(y == \"M\", 1, 0)\n",
    "# Binarize y2 for pace. >= 8.87 = 1, less = 0\n",
    "y2 = df[\"pace\"]\n",
    "y2 = np.where(y2 >= 8.87, 1, 0)"
   ]
  },
  {
   "cell_type": "code",
   "execution_count": 57,
   "metadata": {},
   "outputs": [
    {
     "data": {
      "text/html": [
       "<div>\n",
       "<style scoped>\n",
       "    .dataframe tbody tr th:only-of-type {\n",
       "        vertical-align: middle;\n",
       "    }\n",
       "\n",
       "    .dataframe tbody tr th {\n",
       "        vertical-align: top;\n",
       "    }\n",
       "\n",
       "    .dataframe thead th {\n",
       "        text-align: right;\n",
       "    }\n",
       "</style>\n",
       "<table border=\"1\" class=\"dataframe\">\n",
       "  <thead>\n",
       "    <tr style=\"text-align: right;\">\n",
       "      <th></th>\n",
       "      <th>column_name</th>\n",
       "      <th>missing_count</th>\n",
       "      <th>filling_factor</th>\n",
       "    </tr>\n",
       "  </thead>\n",
       "  <tbody>\n",
       "    <tr>\n",
       "      <th>0</th>\n",
       "      <td>ctz</td>\n",
       "      <td>30740</td>\n",
       "      <td>3.889445</td>\n",
       "    </tr>\n",
       "    <tr>\n",
       "      <th>1</th>\n",
       "      <td>state</td>\n",
       "      <td>2576</td>\n",
       "      <td>91.945973</td>\n",
       "    </tr>\n",
       "    <tr>\n",
       "      <th>2</th>\n",
       "      <td>25k</td>\n",
       "      <td>216</td>\n",
       "      <td>99.324662</td>\n",
       "    </tr>\n",
       "    <tr>\n",
       "      <th>3</th>\n",
       "      <td>half</td>\n",
       "      <td>72</td>\n",
       "      <td>99.774887</td>\n",
       "    </tr>\n",
       "    <tr>\n",
       "      <th>4</th>\n",
       "      <td>5k</td>\n",
       "      <td>52</td>\n",
       "      <td>99.837419</td>\n",
       "    </tr>\n",
       "  </tbody>\n",
       "</table>\n",
       "</div>"
      ],
      "text/plain": [
       "  column_name  missing_count  filling_factor\n",
       "0         ctz          30740        3.889445\n",
       "1       state           2576       91.945973\n",
       "2         25k            216       99.324662\n",
       "3        half             72       99.774887\n",
       "4          5k             52       99.837419"
      ]
     },
     "execution_count": 57,
     "metadata": {},
     "output_type": "execute_result"
    }
   ],
   "source": [
    "def show_missing_data(data): \n",
    "    missing_data = data.isnull().sum().reset_index() \n",
    "    missing_data.columns = ['column_name', 'missing_count'] \n",
    "    missing_data['filling_factor'] = (data.shape[0] - missing_data['missing_count']) / data.shape[0] * 100 \n",
    "    return missing_data.sort_values('filling_factor').reset_index(drop=True)\n",
    "\n",
    "show_missing_data(df)[:5]"
   ]
  },
  {
   "cell_type": "code",
   "execution_count": 29,
   "metadata": {},
   "outputs": [
    {
     "data": {
      "text/plain": [
       "count    31984.000000\n",
       "mean         9.275658\n",
       "std          1.992486\n",
       "min          3.080000\n",
       "25%          7.850000\n",
       "50%          8.870000\n",
       "75%         10.430000\n",
       "max         20.570000\n",
       "Name: pace, dtype: float64"
      ]
     },
     "execution_count": 29,
     "metadata": {},
     "output_type": "execute_result"
    }
   ],
   "source": [
    "df[\"pace\"].describe()"
   ]
  },
  {
   "cell_type": "code",
   "execution_count": 61,
   "metadata": {},
   "outputs": [
    {
     "data": {
      "image/png": "[encoded data removed]",
      "text/plain": [
       "<Figure size 432x288 with 1 Axes>"
      ]
     },
     "metadata": {
      "needs_background": "light"
     },
     "output_type": "display_data"
    },
    {
     "name": "stdout",
     "output_type": "stream",
     "text": [
      "Comparing k-means clusters against the data:\n",
      "col_0     0     1\n",
      "row_0            \n",
      "0         0  7551\n",
      "1         0  2309\n",
      "2      1581     0\n",
      "3         0  3593\n",
      "4        38   231\n",
      "5      4037     0\n",
      "6         0  3306\n",
      "7      5765     0\n",
      "8         0   627\n",
      "9      2946     0\n"
     ]
    }
   ],
   "source": [
    "# Normalize the data.\n",
    "#\n",
    "x = df[[\"10k\", \"division\", \"25k\", \"age\", \"official\", \"genderdiv\", \"35k\", \"overall\", \"pace\", \"30k\", \"5k\", \"half\", \"20k\", \"40k\"]]\n",
    "X_norm = normalize(x)\n",
    "\n",
    "# Reduce it to two components.\n",
    "X_pca = PCA(2).fit_transform(X_norm)\n",
    "\n",
    "# Calculate predicted values.\n",
    "y_pred = KMeans(n_clusters=10).fit_predict(X_pca)\n",
    "\n",
    "# Plot the solution.\n",
    "plt.scatter(X_pca[:, 0], X_pca[:, 1], c=y_pred)\n",
    "plt.show()\n",
    "\n",
    "# Check the solution against the data.\n",
    "print('Comparing k-means clusters against the data:')\n",
    "print(pd.crosstab(y_pred, y))"
   ]
  },
  {
   "cell_type": "code",
   "execution_count": 25,
   "metadata": {},
   "outputs": [
    {
     "data": {
      "text/plain": [
       "numpy.ndarray"
      ]
     },
     "execution_count": 25,
     "metadata": {},
     "output_type": "execute_result"
    }
   ],
   "source": []
  },
  {
   "cell_type": "code",
   "execution_count": 49,
   "metadata": {},
   "outputs": [
    {
     "data": {
      "text/plain": [
       "0.06718146421757301"
      ]
     },
     "execution_count": 49,
     "metadata": {},
     "output_type": "execute_result"
    }
   ],
   "source": [
    "from sklearn import metrics\n",
    "metrics.adjusted_rand_score(y, y_pred)"
   ]
  },
  {
   "cell_type": "code",
   "execution_count": 18,
   "metadata": {},
   "outputs": [],
   "source": []
  },
  {
   "cell_type": "code",
   "execution_count": 32,
   "metadata": {},
   "outputs": [
    {
     "data": {
      "image/png": "[encoded data removed]",
      "text/plain": [
       "<Figure size 432x288 with 1 Axes>"
      ]
     },
     "metadata": {
      "needs_background": "light"
     },
     "output_type": "display_data"
    }
   ],
   "source": [
    "from scipy.spatial.distance import cdist\n",
    "\n",
    "res = list()\n",
    "n_cluster = range(2,20)\n",
    "for n in n_cluster:\n",
    "    kmeans = KMeans(n_clusters=n)\n",
    "    kmeans.fit(X_norm)\n",
    "    res.append(np.average(np.min(cdist(X_norm, kmeans.cluster_centers_, 'euclidean'), axis=1)))\n",
    "\n",
    "plt.plot(n_cluster, res)\n",
    "plt.title('elbow curve')\n",
    "plt.show()"
   ]
  },
  {
   "cell_type": "code",
   "execution_count": null,
   "metadata": {},
   "outputs": [],
   "source": []
  }
 ],
 "metadata": {
  "kernelspec": {
   "display_name": "Python 3",
   "language": "python",
   "name": "python3"
  },
  "language_info": {
   "codemirror_mode": {
    "name": "ipython",
    "version": 3
   },
   "file_extension": ".py",
   "mimetype": "text/x-python",
   "name": "python",
   "nbconvert_exporter": "python",
   "pygments_lexer": "ipython3",
   "version": "3.7.0"
  }
 },
 "nbformat": 4,
 "nbformat_minor": 2
}
