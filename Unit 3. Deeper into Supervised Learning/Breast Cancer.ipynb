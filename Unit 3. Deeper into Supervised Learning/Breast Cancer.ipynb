{
 "cells": [
  {
   "cell_type": "code",
   "execution_count": 1,
   "metadata": {},
   "outputs": [],
   "source": [
    "import pandas as pd\n",
    "import numpy as np\n",
    "import scipy\n",
    "import matplotlib.pyplot as plt\n",
    "import seaborn as sns\n",
    "%matplotlib inline\n",
    "\n",
    "from sklearn import ensemble"
   ]
  },
  {
   "cell_type": "code",
   "execution_count": 54,
   "metadata": {},
   "outputs": [],
   "source": [
    "df2 = pd.read_csv(\"breastcancer.csv\").dropna()"
   ]
  },
  {
   "cell_type": "code",
   "execution_count": 55,
   "metadata": {},
   "outputs": [],
   "source": [
    "df2[\"Class\"] = np.where(df2[\"Class\"] == 4, 1,0)"
   ]
  },
  {
   "cell_type": "code",
   "execution_count": 56,
   "metadata": {},
   "outputs": [],
   "source": [
    "df = df2.drop(\"Class\", 1)"
   ]
  },
  {
   "cell_type": "code",
   "execution_count": 57,
   "metadata": {},
   "outputs": [
    {
     "data": {
      "text/plain": [
       "Id                             False\n",
       "Clump_Thickness                False\n",
       "Uniformity_Cell_Size           False\n",
       "Uniformity_Cell_Shape          False\n",
       "Marginal_Adhesion              False\n",
       "Single_Epithelial_Cell_Size    False\n",
       "Bare_Nuclei                    False\n",
       "Bland_Chromatin                False\n",
       "Normal_Nucleoli                False\n",
       "Mitoses                        False\n",
       "dtype: bool"
      ]
     },
     "execution_count": 57,
     "metadata": {},
     "output_type": "execute_result"
    }
   ],
   "source": [
    "df.isna().any()"
   ]
  },
  {
   "cell_type": "code",
   "execution_count": 62,
   "metadata": {},
   "outputs": [],
   "source": [
    "df3 = df.drop(\"Id\", 1)"
   ]
  },
  {
   "cell_type": "code",
   "execution_count": 72,
   "metadata": {},
   "outputs": [
    {
     "name": "stdout",
     "output_type": "stream",
     "text": [
      "[[-5.51755075e-07  7.82994992e-12  1.06192463e-11  1.02461628e-11\n",
      "   8.57111259e-12  5.89397262e-12  1.29446635e-11  7.28593810e-12\n",
      "   9.10924739e-12  2.79653019e-12]]\n",
      "0.7007299270072993\n"
     ]
    }
   ],
   "source": [
    "from sklearn.linear_model import LogisticRegression\n",
    "regr = LogisticRegression()\n",
    "\n",
    "x = df\n",
    "y = df2[\"Class\"]\n",
    "\n",
    "from sklearn.model_selection import train_test_split\n",
    "x_train, x_test, y_train, y_test = train_test_split(x, y , test_size=.2)\n",
    "\n",
    "regr.fit(x_train, y_train)\n",
    "\n",
    "print(regr.coef_)\n",
    "print(regr.score(x_test,y_test))\n"
   ]
  },
  {
   "cell_type": "code",
   "execution_count": 89,
   "metadata": {},
   "outputs": [],
   "source": [
    "x = df.iloc[:, [2,3,6,7]]\n",
    "x_train, x_test, y_train, y_test = train_test_split(x, y , test_size=.2)"
   ]
  },
  {
   "cell_type": "code",
   "execution_count": 90,
   "metadata": {},
   "outputs": [
    {
     "name": "stdout",
     "output_type": "stream",
     "text": [
      "[0.36858039 0.32505948 0.15185161 0.15450851]\n",
      "0.9708029197080292\n",
      "[[89  1]\n",
      " [ 3 44]]\n"
     ]
    }
   ],
   "source": [
    "params = {\"n_estimators\" : 100,\n",
    "         \"max_depth\" : 4}\n",
    "\n",
    "regr2 = ensemble.RandomForestClassifier(** params)\n",
    "\n",
    "regr2.fit(x_train, y_train)\n",
    "pred = regr2.predict(x_test)\n",
    "\n",
    "print(regr2.feature_importances_)\n",
    "print(regr2.score(x_test, y_test))\n",
    "\n",
    "from sklearn.metrics import confusion_matrix\n",
    "print(confusion_matrix(pred, y_test))"
   ]
  },
  {
   "cell_type": "code",
   "execution_count": 92,
   "metadata": {},
   "outputs": [
    {
     "data": {
      "text/plain": [
       "array([0.92753623, 0.92753623, 0.95652174, 0.94202899, 0.97058824,\n",
       "       0.95588235, 0.95588235, 0.97058824, 0.97058824, 0.98507463])"
      ]
     },
     "execution_count": 92,
     "metadata": {},
     "output_type": "execute_result"
    }
   ],
   "source": [
    "from sklearn.model_selection import cross_val_score\n",
    "cross_val_score(regr2, x, y, cv=10)"
   ]
  },
  {
   "cell_type": "code",
   "execution_count": null,
   "metadata": {},
   "outputs": [],
   "source": []
  }
 ],
 "metadata": {
  "kernelspec": {
   "display_name": "Python 3",
   "language": "python",
   "name": "python3"
  },
  "language_info": {
   "codemirror_mode": {
    "name": "ipython",
    "version": 3
   },
   "file_extension": ".py",
   "mimetype": "text/x-python",
   "name": "python",
   "nbconvert_exporter": "python",
   "pygments_lexer": "ipython3",
   "version": "3.6.4"
  }
 },
 "nbformat": 4,
 "nbformat_minor": 2
}
