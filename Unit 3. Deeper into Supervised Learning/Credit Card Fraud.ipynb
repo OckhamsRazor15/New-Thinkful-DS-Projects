{
 "cells": [
  {
   "cell_type": "code",
   "execution_count": 1,
   "metadata": {},
   "outputs": [],
   "source": [
    "import pandas as pd\n",
    "import numpy as np\n",
    "import scipy\n",
    "import matplotlib.pyplot as plt\n",
    "import seaborn as sns\n",
    "%matplotlib inline\n",
    "\n",
    "from sklearn import ensemble"
   ]
  },
  {
   "cell_type": "code",
   "execution_count": 2,
   "metadata": {},
   "outputs": [],
   "source": [
    "df = pd.read_csv(\"creditcard.csv\")"
   ]
  },
  {
   "cell_type": "code",
   "execution_count": 3,
   "metadata": {},
   "outputs": [
    {
     "data": {
      "text/plain": [
       "492"
      ]
     },
     "execution_count": 3,
     "metadata": {},
     "output_type": "execute_result"
    }
   ],
   "source": [
    "sum(df['Class'] == 1)\n"
   ]
  },
  {
   "cell_type": "code",
   "execution_count": 4,
   "metadata": {},
   "outputs": [
    {
     "data": {
      "text/plain": [
       "284315"
      ]
     },
     "execution_count": 4,
     "metadata": {},
     "output_type": "execute_result"
    }
   ],
   "source": [
    "sum(df['Class'] == 0)"
   ]
  },
  {
   "cell_type": "code",
   "execution_count": 3,
   "metadata": {},
   "outputs": [],
   "source": [
    "df2 = df.drop(\"Class\", 1)\n",
    "#df2 = df2.drop(\"Amount\", 1)"
   ]
  },
  {
   "cell_type": "code",
   "execution_count": 4,
   "metadata": {},
   "outputs": [],
   "source": [
    "df3 = pd.DataFrame()\n",
    "df3[\"V1\"] = df2[\"V1\"]\n",
    "df3[\"V2\"] = df2[\"V4\"]\n",
    "df3[\"V3\"] = df2[\"V5\"]\n",
    "df3[\"V4\"] = df2[\"V12\"]\n",
    "df3[\"V5\"] = df2[\"V21\"]\n",
    "df3[\"V6\"] = df2[\"V7\"]\n",
    "df3[\"V7\"] = df2[\"V18\"]\n",
    "df3[\"V8\"] = df2[\"V19\"]\n",
    "df3[\"V9\"] = df2[\"V22\"]\n",
    "df3[\"V10\"] = df2[\"V24\"]\n",
    "df3[\"V11\"] = df2[\"V26\"]\n",
    "#df3[\"class\"] = df[\"Class\"]"
   ]
  },
  {
   "cell_type": "code",
   "execution_count": null,
   "metadata": {},
   "outputs": [],
   "source": []
  },
  {
   "cell_type": "code",
   "execution_count": 53,
   "metadata": {},
   "outputs": [],
   "source": [
    "df4 = pd.DataFrame()\n",
    "df4[\"V1\"] = df3[\"V1\"]\n",
    "df4[\"V2\"] = df3[\"V2\"]\n",
    "#df4[\"V3\"] = df3[\"V3\"]\n",
    "df4[\"V4\"] = df3[\"V5\"]\n",
    "df4[\"V5\"] = df3[\"V8\"]\n",
    "df4[\"V6\"] = df3[\"V9\"]"
   ]
  },
  {
   "cell_type": "code",
   "execution_count": 5,
   "metadata": {},
   "outputs": [
    {
     "name": "stdout",
     "output_type": "stream",
     "text": [
      "Coefficients\n",
      "[[-0.14618152  0.19755698 -0.01559801 -0.00380363  0.9649488   0.15149021\n",
      "  -0.13062179 -0.13147455 -0.18321377 -0.32534221 -0.87339437 -0.01120349\n",
      "   0.07738282 -0.33184129 -0.4788415  -0.10245174 -0.16302597 -0.02210372\n",
      "   0.05921627  0.04747312 -0.35939163  0.30008112  0.47042493 -0.0539157\n",
      "   0.05992675 -0.08925694  0.00904498 -0.32665252 -0.09195858  0.20382185]]\n",
      "[-8.46454615]\n",
      "\n",
      " Accuracy by admission status\n",
      "Class      0   1\n",
      "row_0           \n",
      "0      56870  33\n",
      "1          5  54\n",
      "\n",
      " Percentage accuracy\n",
      "0.9993328885923949\n",
      "\n",
      " Accuracy by admission status\n",
      "Class       0    1\n",
      "row_0             \n",
      "0      284275  189\n",
      "1          40  303\n",
      "\n",
      " Percentage accuracy\n",
      "0.9991959467288374\n"
     ]
    }
   ],
   "source": [
    "from sklearn.linear_model import LogisticRegression\n",
    "from sklearn.preprocessing import StandardScaler\n",
    "from sklearn.decomposition import PCA\n",
    "from sklearn.model_selection import train_test_split\n",
    "\n",
    "Y = df[\"Class\"]\n",
    "pca = PCA(n_components=5)\n",
    "pca_fit = pca.fit_transform(df2)\n",
    "ss = StandardScaler()\n",
    "scaled = ss.fit_transform(df2, Y)\n",
    "\n",
    "lr = LogisticRegression()\n",
    "X = scaled\n",
    "\n",
    "\n",
    "# Fit the model.\n",
    "\n",
    "\n",
    "from sklearn.model_selection import train_test_split\n",
    "X_train, X_test, Y_train, Y_test = train_test_split( X, Y, test_size=0.2)\n",
    "fit = lr.fit(X_train, Y_train)\n",
    "# Display.\n",
    "print('Coefficients')\n",
    "print(fit.coef_)\n",
    "print(fit.intercept_)\n",
    "pred_y_sklearn = lr.predict(X_test)\n",
    "\n",
    "print('\\n Accuracy by admission status')\n",
    "print(pd.crosstab(pred_y_sklearn, Y_test))\n",
    "\n",
    "print('\\n Percentage accuracy')\n",
    "print(lr.score(X_test, Y_test))\n",
    "\n",
    "print('\\n Accuracy by admission status')\n",
    "print(pd.crosstab(lr.predict(X), Y))\n",
    "\n",
    "print('\\n Percentage accuracy')\n",
    "print(lr.score(X, Y))\n"
   ]
  },
  {
   "cell_type": "code",
   "execution_count": 6,
   "metadata": {},
   "outputs": [
    {
     "name": "stdout",
     "output_type": "stream",
     "text": [
      "Wall time: 11min 4s\n",
      "\n",
      " Accuracy by admission status\n",
      "Class      0   1\n",
      "row_0           \n",
      "0      56868  16\n",
      "1          7  71\n",
      "\n",
      " Accuracy by admission status\n"
     ]
    }
   ],
   "source": [
    "\n",
    "\n",
    "params = {'n_estimators': 50\n",
    "          \n",
    "          }\n",
    "\n",
    "# Initialize and fit the model.\n",
    "clf = ensemble.BaggingClassifier(**params)\n",
    "% time clf.fit(X_train, Y_train)\n",
    "\n",
    "#predict_train = clf.predict(X_train)\n",
    "predict_test = clf.predict(X_test)\n",
    "\n",
    "print('\\n Accuracy by admission status')\n",
    "print(pd.crosstab(predict_test, Y_test))\n",
    "\n",
    "print('\\n Accuracy by admission status')\n",
    "#print(clf.score(predict_test, Y_test))"
   ]
  },
  {
   "cell_type": "code",
   "execution_count": null,
   "metadata": {},
   "outputs": [],
   "source": [
    "from sklearn.svm import SVC\n",
    "svc = SVC()\n",
    "% time fit_svc = svc.fit(X_train, Y_train)\n",
    "\n",
    "predict_test = fit_svc.predict(X_test)\n",
    "\n",
    "print('\\n Accuracy by admission status')\n",
    "print(pd.crosstab(predict_test, Y_test))\n",
    "\n",
    "print('\\n Percentage accuracy')\n",
    "print(lr.score(X_test, Y_test))\n",
    "\n"
   ]
  },
  {
   "cell_type": "code",
   "execution_count": 7,
   "metadata": {},
   "outputs": [
    {
     "name": "stdout",
     "output_type": "stream",
     "text": [
      "Coefficients\n",
      "[[-8.72055761e-05  1.88045301e-01 -3.63602118e-01 -7.89385133e-01\n",
      "   1.54232082e-01 -5.27112340e-03 -7.47235674e-02  9.00138054e-02\n",
      "  -1.87433969e-01 -3.79559553e-01 -1.87323392e-01 -1.59340053e-01\n",
      "  -2.05808467e-02 -2.64532325e-01 -7.32773930e-01 -2.22751549e-01\n",
      "  -2.57378850e-01 -4.30229944e-01 -3.12160929e-03  4.97218743e-02\n",
      "   4.51817107e-02  1.49567414e-01  2.04970083e-01  3.24231829e-02\n",
      "  -2.18975847e-02 -1.84123350e-01  2.76973152e-02 -6.03261593e-02\n",
      "   3.19235493e-02 -7.28694734e-03]]\n",
      "[-1.00448856]\n",
      "\n",
      " Accuracy by admission status\n",
      "Class      0   1\n",
      "row_0           \n",
      "0      56843  32\n",
      "1         21  66\n",
      "\n",
      " Percentage accuracy\n",
      "0.9990695551420246\n",
      "\n",
      " Accuracy by admission status\n",
      "Class       0    1\n",
      "row_0             \n",
      "0      284206  187\n",
      "1         109  305\n",
      "\n",
      " Percentage accuracy\n",
      "0.9989606997019034\n"
     ]
    }
   ],
   "source": [
    "from sklearn.linear_model import LogisticRegression\n",
    "from sklearn.preprocessing import Normalizer\n",
    "from sklearn.decomposition import PCA\n",
    "from sklearn.model_selection import train_test_split\n",
    "\n",
    "Y = df[\"Class\"]\n",
    "pca = PCA(n_components=5)\n",
    "pca_fit = pca.fit_transform(df2)\n",
    "ss = Normalizer(norm='l2')\n",
    "scaled = ss.fit_transform(pca_fit, Y)\n",
    "\n",
    "lr = LogisticRegression()\n",
    "X = df2\n",
    "\n",
    "\n",
    "# Fit the model.\n",
    "\n",
    "\n",
    "\n",
    "X_train, X_test, Y_train, Y_test = train_test_split( X, Y, test_size=0.2)\n",
    "fit = lr.fit(X_train, Y_train)\n",
    "# Display.\n",
    "print('Coefficients')\n",
    "print(fit.coef_)\n",
    "print(fit.intercept_)\n",
    "pred_y_sklearn = lr.predict(X_test)\n",
    "\n",
    "print('\\n Accuracy by admission status')\n",
    "print(pd.crosstab(pred_y_sklearn, Y_test))\n",
    "\n",
    "print('\\n Percentage accuracy')\n",
    "print(lr.score(X_test, Y_test))\n",
    "\n",
    "print('\\n Accuracy by admission status')\n",
    "print(pd.crosstab(lr.predict(X), Y))\n",
    "\n",
    "print('\\n Percentage accuracy')\n",
    "print(lr.score(X, Y))\n"
   ]
  },
  {
   "cell_type": "code",
   "execution_count": 80,
   "metadata": {},
   "outputs": [
    {
     "name": "stdout",
     "output_type": "stream",
     "text": [
      "\n",
      " Accuracy by admission status\n",
      "Class      0   1\n",
      "row_0           \n",
      "0      56860  92\n",
      "1          2   8\n",
      "\n",
      " Percentage accuracy\n",
      "0.9983497770443454\n"
     ]
    }
   ],
   "source": [
    "from sklearn.neighbors import KNeighborsClassifier\n",
    "neighbors = KNeighborsClassifier(n_neighbors=8, weights='distance')\n",
    "\n",
    "neighbors.fit(X_train, Y_train)\n",
    "knn_predict = neighbors.predict(X_test)\n",
    "\n",
    "print('\\n Accuracy by admission status')\n",
    "print(pd.crosstab(knn_predict, Y_test))\n",
    "\n",
    "print('\\n Percentage accuracy')\n",
    "print(neighbors.score(X_test, Y_test))"
   ]
  },
  {
   "cell_type": "markdown",
   "metadata": {},
   "source": [
    "## The best model that I was able to come up with\n",
    "## was the ensemble bagging classifier. It had an accuracy of .99959\n",
    "\n",
    "### I went through a bunch of "
   ]
  },
  {
   "cell_type": "code",
   "execution_count": null,
   "metadata": {},
   "outputs": [],
   "source": []
  }
 ],
 "metadata": {
  "kernelspec": {
   "display_name": "Python 3",
   "language": "python",
   "name": "python3"
  },
  "language_info": {
   "codemirror_mode": {
    "name": "ipython",
    "version": 3
   },
   "file_extension": ".py",
   "mimetype": "text/x-python",
   "name": "python",
   "nbconvert_exporter": "python",
   "pygments_lexer": "ipython3",
   "version": "3.6.4"
  }
 },
 "nbformat": 4,
 "nbformat_minor": 2
}
