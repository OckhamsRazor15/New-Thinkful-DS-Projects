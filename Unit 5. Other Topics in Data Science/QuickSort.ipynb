{
 "cells": [
  {
   "cell_type": "code",
   "execution_count": 4,
   "metadata": {},
   "outputs": [
    {
     "name": "stdout",
     "output_type": "stream",
     "text": [
      "8\n",
      "19\n",
      "42\n",
      "44\n",
      "48\n",
      "59\n",
      "65\n",
      "68\n",
      "72\n",
      "80\n",
      "82\n",
      "95\n"
     ]
    }
   ],
   "source": [
    "Array = [48,44,19,59,72,80,42,65,82,8,95,68]\n",
    "low = 0\n",
    "up = len(Array) - 1\n",
    " \n",
    "def partition(Array,low,up):\n",
    "  i = low+1\n",
    "  j = up\n",
    "  pivot = Array[low]\n",
    "  while(i<=j):\n",
    "    while(Array[i]<pivot and i<up):\n",
    "      i = i+1\n",
    "    while(Array[j]>pivot):\n",
    "      j = j-1\n",
    "    if(i<j):\n",
    "      Array[i],Array[j] = Array[j],Array[i]\n",
    "      i = i+1\n",
    "      j = j-1\n",
    "    else:\n",
    "      i = i+1\n",
    "  Array[low] = Array[j]\n",
    "  Array[j] = pivot\n",
    "  return j\n",
    " \n",
    "def quick(Array,low,up):\n",
    "  if(low>=up):\n",
    "    return\n",
    "  piv_loc = partition(Array,low,up)\n",
    "  quick(Array,low,piv_loc-1)\n",
    "  quick(Array,piv_loc+1,up)\n",
    " \n",
    "quick(Array,low,up)\n",
    " \n",
    "for i in Array:\n",
    "  print(i)"
   ]
  },
  {
   "cell_type": "code",
   "execution_count": null,
   "metadata": {},
   "outputs": [],
   "source": []
  }
 ],
 "metadata": {
  "kernelspec": {
   "display_name": "Python 3",
   "language": "python",
   "name": "python3"
  },
  "language_info": {
   "codemirror_mode": {
    "name": "ipython",
    "version": 3
   },
   "file_extension": ".py",
   "mimetype": "text/x-python",
   "name": "python",
   "nbconvert_exporter": "python",
   "pygments_lexer": "ipython3",
   "version": "3.7.0"
  }
 },
 "nbformat": 4,
 "nbformat_minor": 2
}
