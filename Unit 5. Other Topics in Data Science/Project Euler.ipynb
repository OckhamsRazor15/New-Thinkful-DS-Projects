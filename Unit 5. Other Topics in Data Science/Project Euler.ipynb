{
 "cells": [
  {
   "cell_type": "code",
   "execution_count": 3,
   "metadata": {},
   "outputs": [
    {
     "name": "stdout",
     "output_type": "stream",
     "text": [
      "233168\n"
     ]
    }
   ],
   "source": [
    "#1\n",
    "print(sum(x for x in range(1000) if x % 3 == 0 or x % 5 == 0))"
   ]
  },
  {
   "cell_type": "code",
   "execution_count": 4,
   "metadata": {},
   "outputs": [
    {
     "name": "stdout",
     "output_type": "stream",
     "text": [
      "4613732\n"
     ]
    }
   ],
   "source": [
    "#2 \n",
    "prev, cur = 0, 1\n",
    "total = 0\n",
    "while True:\n",
    "    prev, cur = cur, prev + cur\n",
    "    if cur >= 4000000:\n",
    "        break\n",
    "    if cur % 2 == 0:\n",
    "        total += cur\n",
    "print(total)"
   ]
  },
  {
   "cell_type": "code",
   "execution_count": 14,
   "metadata": {},
   "outputs": [
    {
     "data": {
      "text/plain": [
       "6857"
      ]
     },
     "execution_count": 14,
     "metadata": {},
     "output_type": "execute_result"
    }
   ],
   "source": [
    "#3 \n",
    "num = 600851475143 \n",
    "def largest_prime_factor(n):\n",
    "    i = 2\n",
    "    while i * i <= n:\n",
    "        if n % i:\n",
    "            i += 1\n",
    "        else:\n",
    "            n //= i\n",
    "    return n\n",
    "\n",
    "largest_prime_factor(num)"
   ]
  },
  {
   "cell_type": "code",
   "execution_count": 16,
   "metadata": {},
   "outputs": [
    {
     "name": "stdout",
     "output_type": "stream",
     "text": [
      "906609\n"
     ]
    }
   ],
   "source": [
    "#4\n",
    "\n",
    "def is_pal(c):\n",
    "    return int(str(c)[::-1]) == c\n",
    "\n",
    "maxpal = 0\n",
    "for a in range(999, 99, -1):\n",
    "    for b in range(a, 99, -1):\n",
    "        prod = a * b\n",
    "        if is_pal(prod) and prod > maxpal:\n",
    "            maxpal = prod\n",
    "\n",
    "print (maxpal)"
   ]
  },
  {
   "cell_type": "code",
   "execution_count": 17,
   "metadata": {},
   "outputs": [
    {
     "data": {
      "text/plain": [
       "232792560"
      ]
     },
     "execution_count": 17,
     "metadata": {},
     "output_type": "execute_result"
    }
   ],
   "source": [
    "#5 \n",
    "\n",
    "import functools\n",
    "import math\n",
    "\n",
    "functools.reduce(lambda x,y: x*y//math.gcd(x, y), range(1, 21))\n"
   ]
  },
  {
   "cell_type": "code",
   "execution_count": 18,
   "metadata": {},
   "outputs": [],
   "source": [
    "#6\n",
    "\n",
    "def sum_of_squares(n):\n",
    "    return sum(i**2 for i in range(1, n+1))"
   ]
  },
  {
   "cell_type": "code",
   "execution_count": 19,
   "metadata": {},
   "outputs": [],
   "source": [
    "#7\n",
    "\n",
    "def primes(n):\n",
    "    primes = [2]\n",
    "    attempt = 3\n",
    "    while len(primes) < n:\n",
    "        if all(attempt % prime != 0 for prime in primes):\n",
    "            primes.append(attempt)\n",
    "        attempt += 2\n",
    "    return primes[-1]"
   ]
  },
  {
   "cell_type": "code",
   "execution_count": 22,
   "metadata": {},
   "outputs": [
    {
     "name": "stdout",
     "output_type": "stream",
     "text": [
      "23514624000\n"
     ]
    }
   ],
   "source": [
    "#8\n",
    "\n",
    "L = []\n",
    "L.append(\"73167176531330624919225119674426574742355349194934\")\n",
    "L.append(\"96983520312774506326239578318016984801869478851843\")\n",
    "L.append(\"85861560789112949495459501737958331952853208805511\")\n",
    "L.append(\"12540698747158523863050715693290963295227443043557\")\n",
    "L.append(\"66896648950445244523161731856403098711121722383113\")\n",
    "L.append(\"62229893423380308135336276614282806444486645238749\")\n",
    "L.append(\"30358907296290491560440772390713810515859307960866\")\n",
    "L.append(\"70172427121883998797908792274921901699720888093776\")\n",
    "L.append(\"65727333001053367881220235421809751254540594752243\")\n",
    "L.append(\"52584907711670556013604839586446706324415722155397\")\n",
    "L.append(\"53697817977846174064955149290862569321978468622482\")\n",
    "L.append(\"83972241375657056057490261407972968652414535100474\")\n",
    "L.append(\"82166370484403199890008895243450658541227588666881\")\n",
    "L.append(\"16427171479924442928230863465674813919123162824586\")\n",
    "L.append(\"17866458359124566529476545682848912883142607690042\")\n",
    "L.append(\"24219022671055626321111109370544217506941658960408\")\n",
    "L.append(\"07198403850962455444362981230987879927244284909188\")\n",
    "L.append(\"84580156166097919133875499200524063689912560717606\") \n",
    "L.append(\"05886116467109405077541002256983155200055935729725\")\n",
    "L.append(\"71636269561882670428252483600823257530420752963450\")\n",
    "\n",
    "M = []\n",
    "\n",
    "for s in L:\n",
    "    for i in list(s): M.append(i)\n",
    "\n",
    "greatest_product = 0\n",
    "\n",
    "for i in range(len(M)):\n",
    "    product = 1\n",
    "    substring = M[i:i+13]\n",
    "    for digit in substring: \n",
    "        product*=int(digit)\n",
    "    if product > greatest_product:\n",
    "        greatest_product = product\n",
    "\n",
    "print (greatest_product)"
   ]
  },
  {
   "cell_type": "code",
   "execution_count": 25,
   "metadata": {},
   "outputs": [],
   "source": [
    "#9 \n",
    "\n",
    "def specialPythagoreanTriplet(s):\n",
    "\n",
    "    for a in xrange(s):\n",
    "        for b in xrange(a, s):\n",
    "            c = s - a - b;\n",
    "            if a**2 + b**2 == c**2:\n",
    "                return (a, b, c)"
   ]
  },
  {
   "cell_type": "code",
   "execution_count": 26,
   "metadata": {},
   "outputs": [],
   "source": [
    "#10\n",
    "\n",
    "def sieve(lim):\n",
    "    primes = [True] * (lim+1)\n",
    "    primes[0] = primes[1] = False\n",
    "    for i in range(2, int(math.sqrt(lim))+1):\n",
    "        if primes[i]:\n",
    "            for j in range(i*i, lim+1, i):\n",
    "                primes[j] = False\n",
    "    return primes\n",
    "\n",
    "def sum_primes_to_limit(lim):\n",
    "    primes = sieve(lim)\n",
    "    return sum(i for i in range(2,lim+1) if primes[i])"
   ]
  },
  {
   "cell_type": "code",
   "execution_count": null,
   "metadata": {},
   "outputs": [],
   "source": []
  }
 ],
 "metadata": {
  "kernelspec": {
   "display_name": "Python 3",
   "language": "python",
   "name": "python3"
  },
  "language_info": {
   "codemirror_mode": {
    "name": "ipython",
    "version": 3
   },
   "file_extension": ".py",
   "mimetype": "text/x-python",
   "name": "python",
   "nbconvert_exporter": "python",
   "pygments_lexer": "ipython3",
   "version": "3.7.3"
  }
 },
 "nbformat": 4,
 "nbformat_minor": 2
}
